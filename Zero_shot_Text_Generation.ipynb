{
  "nbformat": 4,
  "nbformat_minor": 0,
  "metadata": {
    "colab": {
      "provenance": [],
      "authorship_tag": "ABX9TyPvnCGzGXKZSl5YiC7B//Hr",
      "include_colab_link": true
    },
    "kernelspec": {
      "name": "python3",
      "display_name": "Python 3"
    },
    "language_info": {
      "name": "python"
    }
  },
  "cells": [
    {
      "cell_type": "markdown",
      "metadata": {
        "id": "view-in-github",
        "colab_type": "text"
      },
      "source": [
        "<a href=\"https://colab.research.google.com/github/AdopleAIOrg/Zero-Shot-Text-Generation/blob/main/Zero_shot_Text_Generation.ipynb\" target=\"_parent\"><img src=\"https://colab.research.google.com/assets/colab-badge.svg\" alt=\"Open In Colab\"/></a>"
      ]
    },
    {
      "cell_type": "code",
      "execution_count": null,
      "metadata": {
        "id": "ZhqGonIUIL14"
      },
      "outputs": [],
      "source": [
        "!pip install -r /content/requirements.txt"
      ]
    },
    {
      "cell_type": "code",
      "source": [
        "%%writefile app.py\n",
        "import streamlit as st\n",
        "from transformers import pipeline\n",
        "from typing import Tuple\n",
        "\n",
        "class ZSTextGeneration:\n",
        "\n",
        "    def __init__(self):\n",
        "\n",
        "        # instantiate the text generation pipeline using the GPT-2 model\n",
        "        self.generator = pipeline('text-generation', model='gpt2')\n",
        "\n",
        "\n",
        "    def _get_input(self) -> Tuple[str, int]:\n",
        "\n",
        "        \"\"\"\n",
        "        Get user input for the prompt and the length of generated text.\n",
        "\n",
        "        Returns:\n",
        "        tuple: A tuple containing the user-provided prompt (str) and the desired length (int) of generated text.\n",
        "        \"\"\"\n",
        "\n",
        "        # create a text input box for the user to enter a prompt\n",
        "        prompt = st.text_input('Enter a prompt:', value='', max_chars=None, key=None, type='default')\n",
        "\n",
        "        # create a slider for the user to adjust the length of the generated text\n",
        "        length = st.slider('Length of generated text:', min_value=10, max_value=1000, value=100, step=10)\n",
        "\n",
        "        return prompt,length\n",
        "\n",
        "    def streamlit_interface(self):\n",
        "\n",
        "        \"\"\"\n",
        "        A Streamlit app that allows users to enter a prompt and adjust the length of generated text.\n",
        "\n",
        "        The app displays a text input box for the user to enter a prompt and a slider to adjust the length of the generated text.\n",
        "        \"\"\"\n",
        "\n",
        "        prompt,length = self._get_input()\n",
        "\n",
        "        st.title(\"Text Generation\")\n",
        "        # create a button that generates text when clicked\n",
        "        if st.button('Generate Text'):\n",
        "            # generate the text using the user's prompt and the desired length\n",
        "            text = self.generator(prompt, max_length=length)[0]['generated_text']\n",
        "            # display the generated text\n",
        "            st.write(text)\n",
        "\n",
        "# run the Streamlit app\n",
        "if __name__ == '__main__':\n",
        "\n",
        "    text_gen = ZSTextGeneration()\n",
        "    text_gen.streamlit_interface()"
      ],
      "metadata": {
        "id": "ZgYmCKlkKdRV"
      },
      "execution_count": null,
      "outputs": []
    },
    {
      "cell_type": "code",
      "source": [
        "!streamlit run app.py & npx localtunnel --port 8501"
      ],
      "metadata": {
        "id": "CylcnoLWLWMf"
      },
      "execution_count": null,
      "outputs": []
    }
  ]
}